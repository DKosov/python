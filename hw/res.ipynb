{
 "cells": [
  {
   "cell_type": "code",
   "execution_count": 1,
   "metadata": {},
   "outputs": [],
   "source": [
    "import numpy as np\n",
    "import pandas as pd"
   ]
  },
  {
   "cell_type": "markdown",
   "metadata": {},
   "source": [
    "# 1"
   ]
  },
  {
   "cell_type": "code",
   "execution_count": 2,
   "metadata": {},
   "outputs": [
    {
     "data": {
      "text/plain": [
       "array([ 5. ,  2. ,  2.3,  6. ,  7. ,  8.5])"
      ]
     },
     "execution_count": 2,
     "metadata": {},
     "output_type": "execute_result"
    }
   ],
   "source": [
    "x = np.array([5, 2, np.nan, 2.3, 6, 7, np.nan, 8.5])\n",
    "s = pd.Series(x)\n",
    "x = x[~np.isnan(x)]\n",
    "x"
   ]
  },
  {
   "cell_type": "code",
   "execution_count": 3,
   "metadata": {},
   "outputs": [],
   "source": [
    "# numpy.r_[True, a[1:] < a[:-1]] & numpy.r_[a[:-1] < a[1:], True]"
   ]
  },
  {
   "cell_type": "code",
   "execution_count": 4,
   "metadata": {},
   "outputs": [
    {
     "data": {
      "text/plain": [
       "0    5.0\n",
       "1    2.0\n",
       "3    2.3\n",
       "4    6.0\n",
       "5    7.0\n",
       "7    8.5\n",
       "dtype: float64"
      ]
     },
     "execution_count": 4,
     "metadata": {},
     "output_type": "execute_result"
    }
   ],
   "source": [
    "s.dropna()"
   ]
  },
  {
   "cell_type": "markdown",
   "metadata": {},
   "source": [
    "# 2"
   ]
  },
  {
   "cell_type": "code",
   "execution_count": 5,
   "metadata": {},
   "outputs": [
    {
     "data": {
      "text/plain": [
       "array([20, 22])"
      ]
     },
     "execution_count": 5,
     "metadata": {},
     "output_type": "execute_result"
    }
   ],
   "source": [
    "from scipy.signal import argrelextrema\n",
    "\n",
    "x = np.array([1, 20, 12, 4, 22, 10, 11])\n",
    "x[argrelextrema(x, np.greater)[0]]"
   ]
  },
  {
   "cell_type": "markdown",
   "metadata": {},
   "source": [
    "# 3"
   ]
  },
  {
   "cell_type": "code",
   "execution_count": 6,
   "metadata": {},
   "outputs": [
    {
     "data": {
      "text/plain": [
       "array([[  0,   1,   2, ...,  97,  98,  99],\n",
       "       [  1,   2,   3, ...,  98,  99, 100],\n",
       "       [  2,   3,   4, ...,  99, 100, 101],\n",
       "       ..., \n",
       "       [898, 899, 900, ..., 995, 996, 997],\n",
       "       [899, 900, 901, ..., 996, 997, 998],\n",
       "       [900, 901, 902, ..., 997, 998, 999]])"
      ]
     },
     "execution_count": 6,
     "metadata": {},
     "output_type": "execute_result"
    }
   ],
   "source": [
    "a = np.arange(1000)\n",
    "mask = np.arange(901)[:, None] + np.arange(100)[None, :]\n",
    "a[mask]"
   ]
  },
  {
   "cell_type": "markdown",
   "metadata": {},
   "source": [
    "# 5"
   ]
  },
  {
   "cell_type": "code",
   "execution_count": 7,
   "metadata": {},
   "outputs": [],
   "source": [
    "from itertools import permutations"
   ]
  },
  {
   "cell_type": "code",
   "execution_count": 8,
   "metadata": {},
   "outputs": [],
   "source": [
    "class RDATA(object):\n",
    "\n",
    "    def __init__(self, max_samples = 64, n = 10 ** 7):\n",
    "        self.n = n\n",
    "        self._max_samples = max_samples\n",
    "\n",
    "        eps = 1 + np.random.normal(0, 0.01, n)\n",
    "        eps[0] = 10\n",
    "        \n",
    "        self.ID = np.cumprod(eps)\n",
    "        self.DataS = np.zeros(self.ID.shape[0])\n",
    "        self.DataS[1:] = np.diff(self.ID)\n",
    "    \n",
    "    def _split4_data(self):\n",
    "        'Разбиваем на 4ки'\n",
    "        \n",
    "        buf_data = self.batch.reshape((64, 4, 128))\n",
    "\n",
    "        perms = np.array(list(permutations([0, 1, 2, 3])))\n",
    "        Y = np.random.randint(0, 24, 64)\n",
    "        \n",
    "        'Индекс-маска переставляет 4ки между собой'\n",
    "\n",
    "        mask = perms[Y] + 4 * np.repeat(np.arange(64), 4).reshape((64, 4))\n",
    "        return buf_data.reshape((64 * 4, 128))[mask]\n",
    "\n",
    "    def loader(self, batch_size=64):\n",
    "        \"\"\"\n",
    "        Гератор новых батчей\n",
    "        batch_size - размер батча\n",
    "        \n",
    "        Генератор следовало бы реализовывать несколько по-другому,\n",
    "        но задание есть задание\n",
    "        \"\"\"\n",
    "\n",
    "        n = self._max_samples\n",
    "        ind = np.arange(self._max_samples)\n",
    "\n",
    "        \"В mask выбирается 64 семпла длиной 512\"\n",
    "\n",
    "        mask = np.random.choice(\n",
    "            np.arange(self.DataS.shape[0] - 512), \n",
    "            size=64)[:, None] + np.arange(512)[None, :]\n",
    "\n",
    "        \"\"\"\n",
    "        batch - массив, который требуется в задании\n",
    "        Можно сразу же возвращать его (он будет размера (64, 512))\n",
    "        Цикл здесь требуется только для самой \"генерации\",\n",
    "        хоть сам batch сделан без циклов\n",
    "        \"\"\"\n",
    "        \n",
    "        self.batch = self.DataS[mask]\n",
    "        #разбивает не 4ки и переставляет их\n",
    "        self.batch = self._split4_data().reshape((64, 512))\n",
    "        \n",
    "        for i in range(0, n, batch_size):\n",
    "            mask = ind[i: min(i + batch_size, n)]\n",
    "            yield (self.batch[mask] if mask.shape[0] != 1 else self.batch[mask][0])\n",
    "        \n",
    "    def get_data(self):\n",
    "        return next(iter(self.loader()))"
   ]
  },
  {
   "cell_type": "code",
   "execution_count": 9,
   "metadata": {},
   "outputs": [],
   "source": [
    "# ex\n",
    "\n",
    "data = RDATA()\n",
    "X = data.get_data()"
   ]
  },
  {
   "cell_type": "markdown",
   "metadata": {},
   "source": [
    "# Задания Данила"
   ]
  },
  {
   "cell_type": "markdown",
   "metadata": {},
   "source": [
    "## 3"
   ]
  },
  {
   "cell_type": "code",
   "execution_count": 10,
   "metadata": {},
   "outputs": [],
   "source": [
    "from sklearn.preprocessing import MinMaxScaler"
   ]
  },
  {
   "cell_type": "code",
   "execution_count": 11,
   "metadata": {},
   "outputs": [
    {
     "name": "stderr",
     "output_type": "stream",
     "text": [
      "/Users/kosov/anaconda/lib/python3.6/site-packages/sklearn/utils/validation.py:590: DataConversionWarning: Data with input dtype int64 was converted to float64 by MinMaxScaler.\n",
      "  warnings.warn(msg, DataConversionWarning)\n"
     ]
    },
    {
     "data": {
      "text/plain": [
       "array([[ 0.41176471,  0.88235294,  0.        ,  0.64705882,  1.        ],\n",
       "       [ 1.        ,  0.        ,  0.35714286,  0.14285714,  0.14285714],\n",
       "       [ 0.57894737,  1.        ,  0.05263158,  0.        ,  0.94736842],\n",
       "       [ 0.        ,  0.64705882,  0.47058824,  1.        ,  0.94117647],\n",
       "       [ 0.        ,  0.68421053,  1.        ,  0.84210526,  0.        ],\n",
       "       [ 0.875     ,  0.        ,  0.625     ,  0.75      ,  1.        ],\n",
       "       [ 0.91666667,  1.        ,  0.33333333,  0.83333333,  0.        ],\n",
       "       [ 0.25      ,  0.58333333,  0.        ,  0.58333333,  1.        ],\n",
       "       [ 0.        ,  0.4375    ,  0.375     ,  0.4375    ,  1.        ],\n",
       "       [ 0.77777778,  1.        ,  0.22222222,  0.44444444,  0.        ]])"
      ]
     },
     "execution_count": 11,
     "metadata": {},
     "output_type": "execute_result"
    }
   ],
   "source": [
    "sc = MinMaxScaler()\n",
    "data = np.random.randint(0, 20, size=(10, 5))\n",
    "sc.fit_transform(data.T).T"
   ]
  },
  {
   "cell_type": "code",
   "execution_count": 12,
   "metadata": {},
   "outputs": [
    {
     "data": {
      "text/plain": [
       "array([[ 0.41176471,  0.88235294,  0.        ,  0.64705882,  1.        ],\n",
       "       [ 1.        ,  0.        ,  0.35714286,  0.14285714,  0.14285714],\n",
       "       [ 0.57894737,  1.        ,  0.05263158,  0.        ,  0.94736842],\n",
       "       [ 0.        ,  0.64705882,  0.47058824,  1.        ,  0.94117647],\n",
       "       [ 0.        ,  0.68421053,  1.        ,  0.84210526,  0.        ],\n",
       "       [ 0.875     ,  0.        ,  0.625     ,  0.75      ,  1.        ],\n",
       "       [ 0.91666667,  1.        ,  0.33333333,  0.83333333,  0.        ],\n",
       "       [ 0.25      ,  0.58333333,  0.        ,  0.58333333,  1.        ],\n",
       "       [ 0.        ,  0.4375    ,  0.375     ,  0.4375    ,  1.        ],\n",
       "       [ 0.77777778,  1.        ,  0.22222222,  0.44444444,  0.        ]])"
      ]
     },
     "execution_count": 12,
     "metadata": {},
     "output_type": "execute_result"
    }
   ],
   "source": [
    "((data.T - data.min(axis=1)) / (data.max(axis=1) - data.min(axis=1))).T"
   ]
  },
  {
   "cell_type": "markdown",
   "metadata": {},
   "source": [
    "## 4"
   ]
  },
  {
   "cell_type": "code",
   "execution_count": 13,
   "metadata": {},
   "outputs": [],
   "source": [
    "data = np.random.normal(0, 1, size=(100, 5))"
   ]
  },
  {
   "cell_type": "code",
   "execution_count": 14,
   "metadata": {},
   "outputs": [
    {
     "data": {
      "text/plain": [
       "array([ 5,  6,  7,  8,  9, 10, 12, 14, 15, 17, 19, 20, 22, 25, 26, 30, 33,\n",
       "       34, 36, 40, 42, 43, 46, 47, 48, 50, 51, 53, 55, 56, 57, 58, 59, 62,\n",
       "       64, 65, 66, 67, 71, 74, 75, 76, 77, 78, 79, 81, 83, 85, 86, 87, 88,\n",
       "       94, 96, 97, 98, 99])"
      ]
     },
     "execution_count": 14,
     "metadata": {},
     "output_type": "execute_result"
    }
   ],
   "source": [
    "np.where((data < 0).sum(axis = 1) > 2)[0]"
   ]
  },
  {
   "cell_type": "markdown",
   "metadata": {},
   "source": [
    "## 5"
   ]
  },
  {
   "cell_type": "code",
   "execution_count": 15,
   "metadata": {},
   "outputs": [],
   "source": [
    "A = np.random.randint(0, 4, size=(10, 4))\n",
    "B = np.random.randint(0, 4, size=(100, 4))"
   ]
  },
  {
   "cell_type": "code",
   "execution_count": 16,
   "metadata": {},
   "outputs": [
    {
     "data": {
      "text/plain": [
       "array([[2, 3, 2, 2],\n",
       "       [2, 0, 1, 3],\n",
       "       [3, 0, 1, 2],\n",
       "       [3, 2, 2, 0],\n",
       "       [3, 1, 2, 1]])"
      ]
     },
     "execution_count": 16,
     "metadata": {},
     "output_type": "execute_result"
    }
   ],
   "source": [
    "A[(A[:, None, :] == B).all(axis=2).any(axis=1)]"
   ]
  },
  {
   "cell_type": "code",
   "execution_count": 17,
   "metadata": {},
   "outputs": [],
   "source": [
    "A = np.array([[1, 2, 3], [3, 4, 5], [6, 7, 8]])\n",
    "B = np.array([[1, 2, 3], [1, 1, 1], [1, 2, 3], [6, 7, 8], [1, 2, 3], [1, 1, 1]])"
   ]
  },
  {
   "cell_type": "code",
   "execution_count": 18,
   "metadata": {},
   "outputs": [
    {
     "data": {
      "text/plain": [
       "array([[1, 2, 3],\n",
       "       [6, 7, 8]])"
      ]
     },
     "execution_count": 18,
     "metadata": {},
     "output_type": "execute_result"
    }
   ],
   "source": [
    "A[(A[:, None, :] == B).all(axis=2).any(axis=1)]"
   ]
  },
  {
   "cell_type": "markdown",
   "metadata": {},
   "source": [
    "## 6"
   ]
  },
  {
   "cell_type": "code",
   "execution_count": 19,
   "metadata": {},
   "outputs": [],
   "source": [
    "A = np.arange(120).reshape((2, 3, 4, 5))"
   ]
  },
  {
   "cell_type": "code",
   "execution_count": 20,
   "metadata": {},
   "outputs": [
    {
     "data": {
      "text/plain": [
       "array([[ 190,  590,  990],\n",
       "       [1390, 1790, 2190]])"
      ]
     },
     "execution_count": 20,
     "metadata": {},
     "output_type": "execute_result"
    }
   ],
   "source": [
    "A.sum(axis=-1).sum(axis=-1)"
   ]
  },
  {
   "cell_type": "code",
   "execution_count": 21,
   "metadata": {},
   "outputs": [
    {
     "data": {
      "text/plain": [
       "array([[ 190,  590,  990],\n",
       "       [1390, 1790, 2190]])"
      ]
     },
     "execution_count": 21,
     "metadata": {},
     "output_type": "execute_result"
    }
   ],
   "source": [
    "A.reshape((2, 3, 20)).sum(axis=-1)"
   ]
  }
 ],
 "metadata": {
  "kernelspec": {
   "display_name": "Python 3",
   "language": "python",
   "name": "python3"
  },
  "language_info": {
   "codemirror_mode": {
    "name": "ipython",
    "version": 3
   },
   "file_extension": ".py",
   "mimetype": "text/x-python",
   "name": "python",
   "nbconvert_exporter": "python",
   "pygments_lexer": "ipython3",
   "version": "3.6.6"
  }
 },
 "nbformat": 4,
 "nbformat_minor": 2
}
